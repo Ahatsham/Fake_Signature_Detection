{
  "nbformat": 4,
  "nbformat_minor": 0,
  "metadata": {
    "colab": {
      "provenance": []
    },
    "kernelspec": {
      "name": "python3",
      "display_name": "Python 3"
    },
    "language_info": {
      "name": "python"
    }
  },
  "cells": [
    {
      "cell_type": "code",
      "execution_count": null,
      "metadata": {
        "id": "tHGqMHCs46_x"
      },
      "outputs": [],
      "source": [
        "#pip install image_slicer\n",
        "from PIL import Image\n",
        "import cv2\n",
        "import os\n",
        "from google.colab.patches import cv2_imshow"
      ]
    },
    {
      "cell_type": "code",
      "source": [
        "pip install easyocr"
      ],
      "metadata": {
        "colab": {
          "base_uri": "https://localhost:8080/"
        },
        "id": "S_bMlPkroGYr",
        "outputId": "11966ab0-2a86-4ead-a66d-835a61b30506"
      },
      "execution_count": null,
      "outputs": [
        {
          "output_type": "stream",
          "name": "stdout",
          "text": [
            "Looking in indexes: https://pypi.org/simple, https://us-python.pkg.dev/colab-wheels/public/simple/\n",
            "Requirement already satisfied: easyocr in /usr/local/lib/python3.7/dist-packages (1.6.2)\n",
            "Requirement already satisfied: torchvision>=0.5 in /usr/local/lib/python3.7/dist-packages (from easyocr) (0.13.1+cu113)\n",
            "Requirement already satisfied: Shapely in /usr/local/lib/python3.7/dist-packages (from easyocr) (1.8.4)\n",
            "Requirement already satisfied: PyYAML in /usr/local/lib/python3.7/dist-packages (from easyocr) (6.0)\n",
            "Requirement already satisfied: numpy in /usr/local/lib/python3.7/dist-packages (from easyocr) (1.21.6)\n",
            "Requirement already satisfied: torch in /usr/local/lib/python3.7/dist-packages (from easyocr) (1.12.1+cu113)\n",
            "Requirement already satisfied: scikit-image in /usr/local/lib/python3.7/dist-packages (from easyocr) (0.18.3)\n",
            "Requirement already satisfied: pyclipper in /usr/local/lib/python3.7/dist-packages (from easyocr) (1.3.0.post3)\n",
            "Requirement already satisfied: python-bidi in /usr/local/lib/python3.7/dist-packages (from easyocr) (0.4.2)\n",
            "Requirement already satisfied: scipy in /usr/local/lib/python3.7/dist-packages (from easyocr) (1.7.3)\n",
            "Requirement already satisfied: ninja in /usr/local/lib/python3.7/dist-packages (from easyocr) (1.10.2.4)\n",
            "Requirement already satisfied: opencv-python-headless<=4.5.4.60 in /usr/local/lib/python3.7/dist-packages (from easyocr) (4.5.4.60)\n",
            "Requirement already satisfied: Pillow in /usr/local/lib/python3.7/dist-packages (from easyocr) (7.1.2)\n",
            "Requirement already satisfied: typing-extensions in /usr/local/lib/python3.7/dist-packages (from torchvision>=0.5->easyocr) (4.1.1)\n",
            "Requirement already satisfied: requests in /usr/local/lib/python3.7/dist-packages (from torchvision>=0.5->easyocr) (2.23.0)\n",
            "Requirement already satisfied: six in /usr/local/lib/python3.7/dist-packages (from python-bidi->easyocr) (1.15.0)\n",
            "Requirement already satisfied: chardet<4,>=3.0.2 in /usr/local/lib/python3.7/dist-packages (from requests->torchvision>=0.5->easyocr) (3.0.4)\n",
            "Requirement already satisfied: idna<3,>=2.5 in /usr/local/lib/python3.7/dist-packages (from requests->torchvision>=0.5->easyocr) (2.10)\n",
            "Requirement already satisfied: certifi>=2017.4.17 in /usr/local/lib/python3.7/dist-packages (from requests->torchvision>=0.5->easyocr) (2022.9.24)\n",
            "Requirement already satisfied: urllib3!=1.25.0,!=1.25.1,<1.26,>=1.21.1 in /usr/local/lib/python3.7/dist-packages (from requests->torchvision>=0.5->easyocr) (1.24.3)\n",
            "Requirement already satisfied: imageio>=2.3.0 in /usr/local/lib/python3.7/dist-packages (from scikit-image->easyocr) (2.9.0)\n",
            "Requirement already satisfied: PyWavelets>=1.1.1 in /usr/local/lib/python3.7/dist-packages (from scikit-image->easyocr) (1.3.0)\n",
            "Requirement already satisfied: tifffile>=2019.7.26 in /usr/local/lib/python3.7/dist-packages (from scikit-image->easyocr) (2021.11.2)\n",
            "Requirement already satisfied: matplotlib!=3.0.0,>=2.0.0 in /usr/local/lib/python3.7/dist-packages (from scikit-image->easyocr) (3.2.2)\n",
            "Requirement already satisfied: networkx>=2.0 in /usr/local/lib/python3.7/dist-packages (from scikit-image->easyocr) (2.6.3)\n",
            "Requirement already satisfied: python-dateutil>=2.1 in /usr/local/lib/python3.7/dist-packages (from matplotlib!=3.0.0,>=2.0.0->scikit-image->easyocr) (2.8.2)\n",
            "Requirement already satisfied: pyparsing!=2.0.4,!=2.1.2,!=2.1.6,>=2.0.1 in /usr/local/lib/python3.7/dist-packages (from matplotlib!=3.0.0,>=2.0.0->scikit-image->easyocr) (3.0.9)\n",
            "Requirement already satisfied: cycler>=0.10 in /usr/local/lib/python3.7/dist-packages (from matplotlib!=3.0.0,>=2.0.0->scikit-image->easyocr) (0.11.0)\n",
            "Requirement already satisfied: kiwisolver>=1.0.1 in /usr/local/lib/python3.7/dist-packages (from matplotlib!=3.0.0,>=2.0.0->scikit-image->easyocr) (1.4.4)\n"
          ]
        }
      ]
    },
    {
      "cell_type": "code",
      "source": [
        "import easyocr"
      ],
      "metadata": {
        "id": "xxTC1teFn_mq"
      },
      "execution_count": null,
      "outputs": []
    },
    {
      "cell_type": "code",
      "source": [
        "img = cv2.imread('*.jpg')  #enter path\n",
        "#1755, 1241\n",
        "dim = 1241, 1755\n",
        "img = cv2.resize(img, dim, interpolation = cv2.INTER_NEAREST)\n",
        "img.shape\n",
        "#cv2_imshow(img)\n",
        "#cv2.imwrite('Original.jpg', img)"
      ],
      "metadata": {
        "colab": {
          "base_uri": "https://localhost:8080/"
        },
        "id": "D6gsv_925SRq",
        "outputId": "8845e45a-77e0-468a-f196-76bb496e0eed"
      },
      "execution_count": null,
      "outputs": [
        {
          "output_type": "execute_result",
          "data": {
            "text/plain": [
              "(1755, 1241, 3)"
            ]
          },
          "metadata": {},
          "execution_count": 34
        }
      ]
    },
    {
      "cell_type": "code",
      "source": [
        "name=img[144:203, 158:513]\n",
        "cv2_imshow(name)"
      ],
      "metadata": {
        "colab": {
          "base_uri": "https://localhost:8080/",
          "height": 76
        },
        "id": "eNmYhKf8o4p4",
        "outputId": "7b693466-3eb5-42c0-db20-337e6d32396a"
      },
      "execution_count": null,
      "outputs": [
        {
          "output_type": "display_data",
          "data": {
            "text/plain": [
              "<PIL.Image.Image image mode=RGB size=355x59 at 0x7F1560B89ED0>"
            ],
            "image/png": "[encoded data removed]"
          },
          "metadata": {}
        }
      ]
    },
    {
      "cell_type": "code",
      "source": [
        "reader = easyocr.Reader(['en'])\n",
        "result = reader.readtext(name,paragraph=\"False\")\n",
        "result"
      ],
      "metadata": {
        "colab": {
          "base_uri": "https://localhost:8080/"
        },
        "id": "R0Bj3CKcqH_L",
        "outputId": "aeb0522a-c197-4722-89c3-ee2284ff902f"
      },
      "execution_count": null,
      "outputs": [
        {
          "output_type": "stream",
          "name": "stderr",
          "text": [
            "WARNING:easyocr.easyocr:CUDA not available - defaulting to CPU. Note: This module is much faster with a GPU.\n"
          ]
        },
        {
          "output_type": "execute_result",
          "data": {
            "text/plain": [
              "[[[[20, 34], [184, 34], [184, 59], [20, 59]], 'AHATSHAM'],\n",
              " [[[226, 34], [278, 34], [278, 58], [226, 58]], '00']]"
            ]
          },
          "metadata": {},
          "execution_count": 36
        }
      ]
    },
    {
      "cell_type": "code",
      "source": [
        "#top_left = tuple(result[0][0][0])\n",
        "a=result[0][1]\n",
        "O = a+ '/Original'\n",
        "F = a+ '/Forged'\n",
        "os.makedirs(O)\n",
        "os.makedirs(F)\n"
      ],
      "metadata": {
        "id": "ybfksGMxtBvp"
      },
      "execution_count": null,
      "outputs": []
    },
    {
      "cell_type": "code",
      "source": [
        "# For Valid Signature \n",
        "\n",
        "img1 = img[315:705, 76:1151]\n",
        "#cv2_imshow(img1)\n",
        "h, w, channels = img1.shape\n",
        "half = w//2\n",
        "half2 = h//2 \n",
        "  \n",
        "a = img1[:half2-3, :half] \n",
        "b = img1[:half2-3, half+10:w]  \n",
        "c = img1[half2:h-3, :half]\n",
        "d = img1[half2:h-3, half+10:w]\n",
        "\n",
        "cv2.imwrite(os. path. join(O, '1st.jpg'), a)\n",
        "cv2.imwrite(os. path. join(O, '2nd.jpg'), b)\n",
        "cv2.imwrite(os. path. join(O, '3rd.jpg'), c)\n",
        "cv2.imwrite(os. path. join(O, '4th.jpg'), d)\n"
      ],
      "metadata": {
        "colab": {
          "base_uri": "https://localhost:8080/"
        },
        "id": "jncdfN6E5YN_",
        "outputId": "d4b6f22c-44b3-40c1-ce87-2887b3d55d3a"
      },
      "execution_count": null,
      "outputs": [
        {
          "output_type": "execute_result",
          "data": {
            "text/plain": [
              "True"
            ]
          },
          "metadata": {},
          "execution_count": 40
        }
      ]
    },
    {
      "cell_type": "code",
      "source": [
        "# For Fake Signature\n",
        "\n",
        "img2 = img[821:1605, 76:1151]\n",
        "#img2.shape\n",
        "f_h, f_w, f_channels = img2.shape\n",
        "img2.shape\n",
        "#cv2.imwrite('legend_only.png',img2)"
      ],
      "metadata": {
        "colab": {
          "base_uri": "https://localhost:8080/"
        },
        "id": "EjJ_upa-FKRr",
        "outputId": "af677ff1-87fa-467d-a89a-d6fe5e45d524"
      },
      "execution_count": null,
      "outputs": [
        {
          "output_type": "execute_result",
          "data": {
            "text/plain": [
              "(784, 1075, 3)"
            ]
          },
          "metadata": {},
          "execution_count": 41
        }
      ]
    },
    {
      "cell_type": "code",
      "source": [
        "f_half = f_w//2\n",
        "\n",
        "f_half2 = f_h//2\n",
        "\n",
        "f_half2_1 = f_half2//2\n",
        "\n",
        "f_half2_2 = (f_half2+f_h)//2"
      ],
      "metadata": {
        "id": "v72Cdxp57G5W"
      },
      "execution_count": null,
      "outputs": []
    },
    {
      "cell_type": "code",
      "source": [
        "e = img2[:f_half2_1, :half] \n",
        "f = img2[:f_half2_1, half+10:f_w]  \n",
        "g = img2[f_half2_1:f_half2-1, :half]\n",
        "h = img2[f_half2_1:f_half2-1, half+10:f_w-1]\n",
        "i = img2[f_half2:f_half2_2-1, :half] \n",
        "j = img2[f_half2:f_half2_2-1, half+10:f_w-1]  \n",
        "k = img2[f_half2_2:f_h-1, :half]\n",
        "l = img2[f_half2_2:f_h-2, half+10:f_w-2]\n",
        "\n",
        "\n",
        "cv2.imwrite(os. path. join(F, '5th.jpg'), e)\n",
        "cv2.imwrite(os. path. join(F, '6th.jpg'), f)\n",
        "cv2.imwrite(os. path. join(F, '7th.jpg'), g)\n",
        "cv2.imwrite(os. path. join(F, '8th.jpg'), h)\n",
        "cv2.imwrite(os. path. join(F, '9th.jpg'), i)\n",
        "cv2.imwrite(os. path. join(F, '10th.jpg'), j)\n",
        "cv2.imwrite(os. path. join(F, '11th.jpg'), k)\n",
        "cv2.imwrite(os. path. join(F, '12th.jpg'), l)"
      ],
      "metadata": {
        "colab": {
          "base_uri": "https://localhost:8080/"
        },
        "id": "Jn1ALnwsGq6i",
        "outputId": "29ca0840-a7a8-4e2f-9d45-21c7950650e8"
      },
      "execution_count": null,
      "outputs": [
        {
          "output_type": "execute_result",
          "data": {
            "text/plain": [
              "True"
            ]
          },
          "metadata": {},
          "execution_count": 43
        }
      ]
    }
  ]
}